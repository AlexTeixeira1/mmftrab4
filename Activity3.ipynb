{
 "cells": [
  {
   "cell_type": "code",
   "execution_count": 87,
   "metadata": {},
   "outputs": [],
   "source": [
    "import numpy as np\n",
    "import pandas as pd\n",
    "import matplotlib.pyplot as plt\n",
    "from pandas_datareader import data as wb\n",
    "\n",
    "\n"
   ]
  },
  {
   "cell_type": "code",
   "execution_count": null,
   "metadata": {},
   "outputs": [],
   "source": [
    "assets=['PETR4.SA','ABEV3.SA','CIEL3.SA','ITUB4.SA','^BVSP']\n",
    "portfolio=pd.DataFrame()"
   ]
  },
  {
   "cell_type": "code",
   "execution_count": 88,
   "metadata": {},
   "outputs": [],
   "source": [
    "import datetime\n",
    "start = datetime.datetime(2018, 1, 1)\n",
    "end = datetime.datetime(2019, 6, 15)"
   ]
  },
  {
   "cell_type": "code",
   "execution_count": 89,
   "metadata": {},
   "outputs": [],
   "source": [
    "for t in assets:   \n",
    "    portfolio[t]=wb.DataReader(t,data_source='yahoo',start='2012-1-1',end='2019-6-20')['Adj Close']\n",
    "\n",
    "sec_ret=np.log(portfolio/portfolio.shift(1))\n"
   ]
  },
  {
   "cell_type": "code",
   "execution_count": 90,
   "metadata": {},
   "outputs": [
    {
     "data": {
      "text/html": [
       "<div>\n",
       "<style scoped>\n",
       "    .dataframe tbody tr th:only-of-type {\n",
       "        vertical-align: middle;\n",
       "    }\n",
       "\n",
       "    .dataframe tbody tr th {\n",
       "        vertical-align: top;\n",
       "    }\n",
       "\n",
       "    .dataframe thead th {\n",
       "        text-align: right;\n",
       "    }\n",
       "</style>\n",
       "<table border=\"1\" class=\"dataframe\">\n",
       "  <thead>\n",
       "    <tr style=\"text-align: right;\">\n",
       "      <th></th>\n",
       "      <th>PETR4.SA</th>\n",
       "      <th>ABEV3.SA</th>\n",
       "      <th>CIEL3.SA</th>\n",
       "      <th>ITUB4.SA</th>\n",
       "      <th>^BVSP</th>\n",
       "    </tr>\n",
       "    <tr>\n",
       "      <th>Date</th>\n",
       "      <th></th>\n",
       "      <th></th>\n",
       "      <th></th>\n",
       "      <th></th>\n",
       "      <th></th>\n",
       "    </tr>\n",
       "  </thead>\n",
       "  <tbody>\n",
       "    <tr>\n",
       "      <th>2019-06-14</th>\n",
       "      <td>-0.004425</td>\n",
       "      <td>-0.011835</td>\n",
       "      <td>-0.009050</td>\n",
       "      <td>0.000294</td>\n",
       "      <td>-0.007459</td>\n",
       "    </tr>\n",
       "    <tr>\n",
       "      <th>2019-06-17</th>\n",
       "      <td>0.001846</td>\n",
       "      <td>0.009029</td>\n",
       "      <td>0.003026</td>\n",
       "      <td>-0.001178</td>\n",
       "      <td>-0.004262</td>\n",
       "    </tr>\n",
       "    <tr>\n",
       "      <th>2019-06-18</th>\n",
       "      <td>0.012464</td>\n",
       "      <td>0.013947</td>\n",
       "      <td>0.019447</td>\n",
       "      <td>0.025590</td>\n",
       "      <td>0.018079</td>\n",
       "    </tr>\n",
       "    <tr>\n",
       "      <th>2019-06-19</th>\n",
       "      <td>0.002547</td>\n",
       "      <td>0.008276</td>\n",
       "      <td>0.014706</td>\n",
       "      <td>0.015668</td>\n",
       "      <td>0.009003</td>\n",
       "    </tr>\n",
       "    <tr>\n",
       "      <th>2019-06-21</th>\n",
       "      <td>0.027242</td>\n",
       "      <td>0.013643</td>\n",
       "      <td>0.044261</td>\n",
       "      <td>0.017372</td>\n",
       "      <td>0.016905</td>\n",
       "    </tr>\n",
       "  </tbody>\n",
       "</table>\n",
       "</div>"
      ],
      "text/plain": [
       "            PETR4.SA  ABEV3.SA  CIEL3.SA  ITUB4.SA     ^BVSP\n",
       "Date                                                        \n",
       "2019-06-14 -0.004425 -0.011835 -0.009050  0.000294 -0.007459\n",
       "2019-06-17  0.001846  0.009029  0.003026 -0.001178 -0.004262\n",
       "2019-06-18  0.012464  0.013947  0.019447  0.025590  0.018079\n",
       "2019-06-19  0.002547  0.008276  0.014706  0.015668  0.009003\n",
       "2019-06-21  0.027242  0.013643  0.044261  0.017372  0.016905"
      ]
     },
     "execution_count": 90,
     "metadata": {},
     "output_type": "execute_result"
    }
   ],
   "source": [
    "sec_ret.tail()"
   ]
  },
  {
   "cell_type": "markdown",
   "metadata": {},
   "source": [
    "## Matriz de covariância"
   ]
  },
  {
   "cell_type": "code",
   "execution_count": 91,
   "metadata": {},
   "outputs": [
    {
     "data": {
      "text/html": [
       "<div>\n",
       "<style scoped>\n",
       "    .dataframe tbody tr th:only-of-type {\n",
       "        vertical-align: middle;\n",
       "    }\n",
       "\n",
       "    .dataframe tbody tr th {\n",
       "        vertical-align: top;\n",
       "    }\n",
       "\n",
       "    .dataframe thead th {\n",
       "        text-align: right;\n",
       "    }\n",
       "</style>\n",
       "<table border=\"1\" class=\"dataframe\">\n",
       "  <thead>\n",
       "    <tr style=\"text-align: right;\">\n",
       "      <th></th>\n",
       "      <th>PETR4.SA</th>\n",
       "      <th>ABEV3.SA</th>\n",
       "      <th>CIEL3.SA</th>\n",
       "      <th>ITUB4.SA</th>\n",
       "      <th>^BVSP</th>\n",
       "    </tr>\n",
       "  </thead>\n",
       "  <tbody>\n",
       "    <tr>\n",
       "      <th>PETR4.SA</th>\n",
       "      <td>0.233129</td>\n",
       "      <td>0.032836</td>\n",
       "      <td>0.041939</td>\n",
       "      <td>0.084750</td>\n",
       "      <td>0.083534</td>\n",
       "    </tr>\n",
       "    <tr>\n",
       "      <th>ABEV3.SA</th>\n",
       "      <td>0.032836</td>\n",
       "      <td>0.052942</td>\n",
       "      <td>0.022287</td>\n",
       "      <td>0.027608</td>\n",
       "      <td>0.025215</td>\n",
       "    </tr>\n",
       "    <tr>\n",
       "      <th>CIEL3.SA</th>\n",
       "      <td>0.041939</td>\n",
       "      <td>0.022287</td>\n",
       "      <td>0.105912</td>\n",
       "      <td>0.032540</td>\n",
       "      <td>0.029828</td>\n",
       "    </tr>\n",
       "    <tr>\n",
       "      <th>ITUB4.SA</th>\n",
       "      <td>0.084750</td>\n",
       "      <td>0.027608</td>\n",
       "      <td>0.032540</td>\n",
       "      <td>0.091760</td>\n",
       "      <td>0.055721</td>\n",
       "    </tr>\n",
       "    <tr>\n",
       "      <th>^BVSP</th>\n",
       "      <td>0.083534</td>\n",
       "      <td>0.025215</td>\n",
       "      <td>0.029828</td>\n",
       "      <td>0.055721</td>\n",
       "      <td>0.050604</td>\n",
       "    </tr>\n",
       "  </tbody>\n",
       "</table>\n",
       "</div>"
      ],
      "text/plain": [
       "          PETR4.SA  ABEV3.SA  CIEL3.SA  ITUB4.SA     ^BVSP\n",
       "PETR4.SA  0.233129  0.032836  0.041939  0.084750  0.083534\n",
       "ABEV3.SA  0.032836  0.052942  0.022287  0.027608  0.025215\n",
       "CIEL3.SA  0.041939  0.022287  0.105912  0.032540  0.029828\n",
       "ITUB4.SA  0.084750  0.027608  0.032540  0.091760  0.055721\n",
       "^BVSP     0.083534  0.025215  0.029828  0.055721  0.050604"
      ]
     },
     "execution_count": 91,
     "metadata": {},
     "output_type": "execute_result"
    }
   ],
   "source": [
    "# Vamos assumir 250 dias ao ano negociados.\n",
    "covariance=sec_ret.cov()*250\n",
    "covariance\n"
   ]
  },
  {
   "cell_type": "markdown",
   "metadata": {},
   "source": [
    "## Índice Beta: Como é Calculado?\n",
    "\n",
    "A fórmula do Índice Beta é bem simples:\n",
    "\n",
    "Beta = Covariância entre o Retorno do Ativo e do Mercado / Variância do Retorno do Mercado"
   ]
  },
  {
   "cell_type": "code",
   "execution_count": 92,
   "metadata": {},
   "outputs": [],
   "source": [
    "marketcov = covariance.iloc[:,-1]\n",
    "market_var=sec_ret.var()*250"
   ]
  },
  {
   "cell_type": "code",
   "execution_count": 94,
   "metadata": {},
   "outputs": [
    {
     "data": {
      "text/plain": [
       "PETR4.SA    0.083534\n",
       "ABEV3.SA    0.025215\n",
       "CIEL3.SA    0.029828\n",
       "ITUB4.SA    0.055721\n",
       "^BVSP       0.050604\n",
       "Name: ^BVSP, dtype: float64"
      ]
     },
     "execution_count": 94,
     "metadata": {},
     "output_type": "execute_result"
    }
   ],
   "source": [
    "marketcov"
   ]
  },
  {
   "cell_type": "code",
   "execution_count": 93,
   "metadata": {},
   "outputs": [
    {
     "data": {
      "text/plain": [
       "PETR4.SA    0.358314\n",
       "ABEV3.SA    0.476267\n",
       "CIEL3.SA    0.281629\n",
       "ITUB4.SA    0.607245\n",
       "^BVSP       1.000000\n",
       "dtype: float64"
      ]
     },
     "execution_count": 93,
     "metadata": {},
     "output_type": "execute_result"
    }
   ],
   "source": [
    "betam = marketcov/market_var\n",
    "betam"
   ]
  },
  {
   "cell_type": "code",
   "execution_count": null,
   "metadata": {},
   "outputs": [],
   "source": [
    "\n",
    "\n"
   ]
  },
  {
   "cell_type": "code",
   "execution_count": 96,
   "metadata": {},
   "outputs": [
    {
     "data": {
      "text/plain": [
       "PETR4.SA    0.081124\n",
       "ABEV3.SA    0.086432\n",
       "CIEL3.SA    0.077673\n",
       "ITUB4.SA    0.092326\n",
       "^BVSP       0.110000\n",
       "dtype: float64"
      ]
     },
     "execution_count": 96,
     "metadata": {},
     "output_type": "execute_result"
    }
   ],
   "source": [
    "# Expected Return\n",
    "premio = 0.065 - 0.02\n",
    "Exp_ret= 0.065+betam*premio\n",
    "Exp_ret"
   ]
  },
  {
   "cell_type": "markdown",
   "metadata": {},
   "source": [
    "## Índice de Sharpe: Como é Calculado?\n",
    "\n",
    "IS = ( Ri -Rf ) / (σi )\n",
    "\n",
    "Onde:\n",
    "\n",
    "    IS = Índice de Sharpe\n",
    "    Ri = Retorno do Ativo\n",
    "    Rf = Retorno Livre de Riso ( Risk-Free )\n",
    "    σi = Risco do Ativo ( a letra grega sigma representa volatilidade )\n"
   ]
  },
  {
   "cell_type": "code",
   "execution_count": 58,
   "metadata": {},
   "outputs": [
    {
     "data": {
      "text/plain": [
       "-0.028884308990665287"
      ]
     },
     "execution_count": 58,
     "metadata": {},
     "output_type": "execute_result"
    }
   ],
   "source": [
    "# Calculation os Sharpe ratio\n",
    "\n",
    "Rf = 0.065   #SELIC\n",
    "\n",
    "sharpes =[]\n",
    "for t in assets:\n",
    "    \n",
    "    sigma = (sec_ret['ITUB4.SA'].std()*250**0.5)\n",
    "\n",
    "    sharpe=(Exp_ret-Rf)/sigma\n",
    "sharpe"
   ]
  },
  {
   "cell_type": "code",
   "execution_count": null,
   "metadata": {},
   "outputs": [],
   "source": []
  }
 ],
 "metadata": {
  "kernelspec": {
   "display_name": "Python 3",
   "language": "python",
   "name": "python3"
  },
  "language_info": {
   "codemirror_mode": {
    "name": "ipython",
    "version": 3
   },
   "file_extension": ".py",
   "mimetype": "text/x-python",
   "name": "python",
   "nbconvert_exporter": "python",
   "pygments_lexer": "ipython3",
   "version": "3.6.5"
  }
 },
 "nbformat": 4,
 "nbformat_minor": 2
}
